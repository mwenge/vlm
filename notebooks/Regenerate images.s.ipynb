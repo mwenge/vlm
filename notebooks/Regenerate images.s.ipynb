{
 "cells": [
  {
   "cell_type": "markdown",
   "id": "512f1404",
   "metadata": {},
   "source": [
    "## Reformat images.s, look for the images"
   ]
  },
  {
   "cell_type": "code",
   "execution_count": 26,
   "id": "30f34d83",
   "metadata": {},
   "outputs": [],
   "source": [
    "import cry_rgb as cry\n",
    "from PIL import Image, ImageColor\n",
    "import numpy as np\n",
    "from ascii_magic import AsciiArt\n",
    "\n",
    "def get1BitPixels(cry_pixels,width=2):\n",
    "    rgb_pixels = []\n",
    "    for b in cry_pixels:\n",
    "        for m in [128,64,32,16,8,4,2,1]:\n",
    "            rgb_pixels += [(255,255,255) if (b & m) else (0,0,0)]\n",
    "    pad_len = width - (len(rgb_pixels) % width)\n",
    "    rgb_pixels += [(0,0,0)] * pad_len\n",
    "    pixels = np.array(rgb_pixels).astype(np.uint8)\n",
    "    pixels.shape = (-1,width,3)\n",
    "    return pixels\n",
    "\n",
    "def getPixels(cry_pixels,width=2):\n",
    "    rgb_pixels = []\n",
    "    for i in range(0, len(cry_pixels),2):\n",
    "        t = cry_pixels[i:i+2]\n",
    "        #print(i,t,int.from_bytes(t,'little'))\n",
    "        rgb = cry.cry_to_rgb(int.from_bytes(t,'big'))\n",
    "        rgb_pixels += [rgb]\n",
    "    pad_len = width - (len(rgb_pixels) % width)\n",
    "    rgb_pixels += [(0,0,0)] * pad_len\n",
    "    pixels = np.array(rgb_pixels).astype(np.uint8)\n",
    "    pixels.shape = (-1,width,3)\n",
    "    return pixels\n"
   ]
  },
  {
   "cell_type": "code",
   "execution_count": 10,
   "id": "30b61ac1",
   "metadata": {},
   "outputs": [],
   "source": [
    "vlm_logo = \"\"\"\n",
    "                dc.l $E00040, $F00000, $100001, $C0002, $140000, $8F0003\n",
    "                dc.l $80004, $C0005, $100000, $8F0004, $C0006, $140005\n",
    "                dc.l $100000, $8F0006, $140007, $C0005, $100000, $8F0007\n",
    "                dc.l $C0008, $140005, $100000, 9, $14000A, $8000C, $C0000\n",
    "                dc.l $A, $8000D, $10000C, $C0000, $B, $14000A, $8000D\n",
    "                dc.l $100000, 0\n",
    "                dc.l $800000, $400080, $A00000, $E00000, $A00080, $E00040\n",
    "                dc.l $1200040, $1200080, $1400000, $1800040, $1C00000\n",
    "                dc.l $1400080, $1C00080, 0\n",
    "                dc.l $80008, $39803F8, $4000408, $4100118\n",
    "                dc.l $1180118,$1180118,$1180118,$1180118,$1180118\n",
    "                dc.l $1180118,$1180118,$1180118,$1180118,$1180118\n",
    "                dc.l $1180118,$1180118,$1180118\n",
    "                dc.l $1180130, $1380140, $1480150, $1580160, $1680170\n",
    "                dc.l $1780180, $1880190, $19801A0, $1A801B0, $1B801C0\n",
    "                dc.l $1C801D0, $1D801E0, $1E801F0, $3A00118, $1280118\n",
    "                dc.l $1200118, $11802C8, $2D002D8, $2E002E8, $2F002F8\n",
    "                dc.l $3000308, $3100318, $3200328, $3300338, $3400348\n",
    "                dc.l $3500358, $3600368, $3700378, $3800388, $3900118\n",
    "                dc.l $1180118,$1180118\n",
    "                dc.l $11801F8, $2000208, $2100218, $2200228, $2300238\n",
    "                dc.l $2400248, $2500258, $2600268, $2700278, $2800288\n",
    "                dc.l $2900298, $2A002A8, $2B002B8, $2C00118\n",
    "                dc.l $1180118,$1180118\n",
    "                dc.l $3A803B0, $3B803C0, $3C803D0, $3D803E0, $3E803F0\n",
    "                dc.l 0,0\n",
    "                dc.l $20100804\n",
    "                dc.l $4081020,$4081020\n",
    "                dc.l $20100804, $20202020, $20000020, $50505000, 0\n",
    "                dc.l $4848FE48, $48FE4848, $107E9070, $1014FE20, $60620408\n",
    "                dc.l $10204C8C, $20508870, $64989A64, $102040, 0\n",
    "                dc.l $10204040, $40402010, $20100808, $8081020, $925438\n",
    "                dc.l $38549200, $101010FE, $10101000, 0\n",
    "                dc.l $101020, $FE\n",
    "                dc.l 0,0\n",
    "                dc.l $606000, $20408, $10204080, $7C82868A, $92A2C27C\n",
    "                dc.l $10305010, $101010FE, $78840408, $102040FE, $7C820204\n",
    "                dc.l $7C02827C, $40C1424, $4484FE04, $FE8080FC, $202827C\n",
    "                dc.l $384080FC, $8282827C, $FE020408, $10204080, $7C82827C\n",
    "                dc.l $8282827C, $7C828282, $7E02827C, $7C, $27E827E, $808080FC\n",
    "                dc.l $828282FC, $7E, $8080807E, $202027E, $8282827E, $7C\n",
    "                dc.l $82FC807C, $3E4040, $FE404040, $7E, $827E027C, $808080FC\n",
    "                dc.l $82828282, $100030, $10101038, $100010, $101010E0\n",
    "                dc.l $80808088, $90F08884, $60202020, $20202070, $7C, $92929282\n",
    "                dc.l $78, $84848484, $7C, $8282827C, $FC, $82FC8080, $7E\n",
    "                dc.l $827E0202, $FC, $82808080, $7E, $403804FC, $10FE\n",
    "                dc.l $1010100C, $82, $8282867A, $82, $82442810, $82, $8292AAC6\n",
    "                dc.l $84, $48304884, $82, $827E02FC, $FE, $41040FE, $10284482\n",
    "                dc.l $FE828282, $FC8284FC, $828282FC, $7EC08080, $8080C07E\n",
    "                dc.l $FC868282, $828286FC, $FE8080FE, $808080FE, $FE8080FE\n",
    "                dc.l $80808080, $7EC08080, $8086C27C, $828282FE, $82828282\n",
    "                dc.l $FE101010, $101010FE, $FE080808, $8888870, $848890E0\n",
    "                dc.l $90888482, $80808080, $808080FE, $82C6AA92, $82828282\n",
    "                dc.l $82C2A292, $8A868282, $7CC68282, $8282C67C, $FC828282\n",
    "                dc.l $FC808080, $7CC68282, $828AC67A, $FC828282, $FC888482\n",
    "                dc.l $7E80C030, $1C0602FC, $FE101010, $10101010, $82828282\n",
    "                dc.l $8282827C, $82828244, $44282810, $82828282, $8292AAC6\n",
    "                dc.l $82824438, $28448282, $82828244, $28101010, $FE020408\n",
    "                dc.l $102040FE, $C0F0FCFE, $FEFCF0C0, $3000, $300000, $3C6666\n",
    "                dc.l $66663C00, $381818, $18183C00, $386C0C, $18307C00\n",
    "                dc.l $7E060C, $6663C00, $1C3C6C, $7E0C0C00, $7E607C, $6067C00\n",
    "                dc.l $3C607C, $66663C00, $3E060C, $18181800, $3C663C, $66663C00\n",
    "                dc.l $3C663E, $6063C00\n",
    "                dc.l $FFFFFFFF,$FFFFFFFF\n",
    "                dc.l $FF8F8F8F, $8F8F8FFF, $FFF1F1F1, $F1F1F1FF, $FF818181\n",
    "                dc.l $818181FF\n",
    "\"\"\""
   ]
  },
  {
   "cell_type": "code",
   "execution_count": 12,
   "id": "415515b9",
   "metadata": {
    "scrolled": true
   },
   "outputs": [
    {
     "name": "stdout",
     "output_type": "stream",
     "text": [
      "dc.b  $00,$08,$00,$E0,$00,$40,$00,$F0 ; 0x0\n",
      "dc.b  $00,$00,$00,$10,$00,$01,$00,$0C ; 0x8\n",
      "dc.b  $00,$02,$00,$14,$00,$00,$00,$8F ; 0x10\n",
      "dc.b  $00,$03,$00,$08,$00,$04,$00,$0C ; 0x18\n",
      "dc.b  $00,$05,$00,$10,$00,$00,$00,$8F ; 0x20\n",
      "dc.b  $00,$04,$00,$0C,$00,$06,$00,$14 ; 0x28\n",
      "dc.b  $00,$05,$00,$10,$00,$00,$00,$8F ; 0x30\n",
      "dc.b  $00,$06,$00,$14,$00,$07,$00,$0C ; 0x38\n",
      "dc.b  $00,$05,$00,$10,$00,$00,$00,$8F ; 0x40\n",
      "dc.b  $00,$07,$00,$0C,$00,$08,$00,$14 ; 0x48\n",
      "dc.b  $00,$05,$00,$10,$00,$00,$00,$00 ; 0x50\n",
      "dc.b  $00,$09,$00,$14,$00,$0A,$00,$08 ; 0x58\n",
      "dc.b  $00,$0C,$00,$0C,$00,$00,$00,$00 ; 0x60\n",
      "dc.b  $00,$0A,$00,$08,$00,$0D,$00,$10 ; 0x68\n",
      "dc.b  $00,$0C,$00,$0C,$00,$00,$00,$00 ; 0x70\n",
      "dc.b  $00,$0B,$00,$14,$00,$0A,$00,$08 ; 0x78\n",
      "dc.b  $00,$0D,$00,$10,$00,$00,$00,$00 ; 0x80\n",
      "dc.b  $00,$00,$00,$80,$00,$00,$00,$40 ; 0x88\n",
      "dc.b  $00,$80,$00,$A0,$00,$00,$00,$E0 ; 0x90\n",
      "dc.b  $00,$00,$00,$A0,$00,$80,$00,$E0 ; 0x98\n",
      "dc.b  $00,$40,$01,$20,$00,$40,$01,$20 ; 0xa0\n",
      "dc.b  $00,$80,$01,$40,$00,$00,$01,$80 ; 0xa8\n",
      "dc.b  $00,$40,$01,$C0,$00,$00,$01,$40 ; 0xb0\n",
      "dc.b  $00,$80,$01,$C0,$00,$80,$00,$00 ; 0xb8\n",
      "dc.b  $00,$00,$00,$08,$00,$08,$03,$98 ; 0xc0\n",
      "dc.b  $03,$F8,$04,$00,$04,$08,$04,$10 ; 0xc8\n",
      "dc.b  $01,$18,$01,$18,$01,$18,$01,$18 ; 0xd0\n",
      "dc.b  $01,$18,$01,$18,$01,$18,$01,$18 ; 0xd8\n",
      "dc.b  $01,$18,$01,$18,$01,$18,$01,$18 ; 0xe0\n",
      "dc.b  $01,$18,$01,$18,$01,$18,$01,$18 ; 0xe8\n",
      "dc.b  $01,$18,$01,$18,$01,$18,$01,$18 ; 0xf0\n",
      "dc.b  $01,$18,$01,$18,$01,$18,$01,$18 ; 0xf8\n",
      "dc.b  $01,$18,$01,$18,$01,$18,$01,$18 ; 0x100\n",
      "dc.b  $01,$30,$01,$38,$01,$40,$01,$48 ; 0x108\n",
      "dc.b  $01,$50,$01,$58,$01,$60,$01,$68 ; 0x110\n",
      "dc.b  $01,$70,$01,$78,$01,$80,$01,$88 ; 0x118\n",
      "dc.b  $01,$90,$01,$98,$01,$A0,$01,$A8 ; 0x120\n",
      "dc.b  $01,$B0,$01,$B8,$01,$C0,$01,$C8 ; 0x128\n",
      "dc.b  $01,$D0,$01,$D8,$01,$E0,$01,$E8 ; 0x130\n",
      "dc.b  $01,$F0,$03,$A0,$01,$18,$01,$28 ; 0x138\n",
      "dc.b  $01,$18,$01,$20,$01,$18,$01,$18 ; 0x140\n",
      "dc.b  $02,$C8,$02,$D0,$02,$D8,$02,$E0 ; 0x148\n",
      "dc.b  $02,$E8,$02,$F0,$02,$F8,$03,$00 ; 0x150\n",
      "dc.b  $03,$08,$03,$10,$03,$18,$03,$20 ; 0x158\n",
      "dc.b  $03,$28,$03,$30,$03,$38,$03,$40 ; 0x160\n",
      "dc.b  $03,$48,$03,$50,$03,$58,$03,$60 ; 0x168\n",
      "dc.b  $03,$68,$03,$70,$03,$78,$03,$80 ; 0x170\n",
      "dc.b  $03,$88,$03,$90,$01,$18,$01,$18 ; 0x178\n",
      "dc.b  $01,$18,$01,$18,$01,$18,$01,$18 ; 0x180\n",
      "dc.b  $01,$F8,$02,$00,$02,$08,$02,$10 ; 0x188\n",
      "dc.b  $02,$18,$02,$20,$02,$28,$02,$30 ; 0x190\n",
      "dc.b  $02,$38,$02,$40,$02,$48,$02,$50 ; 0x198\n",
      "dc.b  $02,$58,$02,$60,$02,$68,$02,$70 ; 0x1a0\n",
      "dc.b  $02,$78,$02,$80,$02,$88,$02,$90 ; 0x1a8\n",
      "dc.b  $02,$98,$02,$A0,$02,$A8,$02,$B0 ; 0x1b0\n",
      "dc.b  $02,$B8,$02,$C0,$01,$18,$01,$18 ; 0x1b8\n",
      "dc.b  $01,$18,$01,$18,$01,$18,$03,$A8 ; 0x1c0\n",
      "dc.b  $03,$B0,$03,$B8,$03,$C0,$03,$C8 ; 0x1c8\n",
      "dc.b  $03,$D0,$03,$D8,$03,$E0,$03,$E8 ; 0x1d0\n",
      "dc.b  $03,$F0,$00,$00,$00,$00,$00,$00 ; 0x1d8\n",
      "dc.b  $00,$00,$20,$10,$08,$04,$04,$08 ; 0x1e0\n",
      "dc.b  $10,$20,$04,$08,$10,$20,$20,$10 ; 0x1e8\n",
      "dc.b  $08,$04,$20,$20,$20,$20,$20,$00 ; 0x1f0\n",
      "dc.b  $00,$20,$50,$50,$50,$00,$00,$00 ; 0x1f8\n",
      "dc.b  $00,$00,$48,$48,$FE,$48,$48,$FE ; 0x200\n",
      "dc.b  $48,$48,$10,$7E,$90,$70,$10,$14 ; 0x208\n",
      "dc.b  $FE,$20,$60,$62,$04,$08,$10,$20 ; 0x210\n",
      "dc.b  $4C,$8C,$20,$50,$88,$70,$64,$98 ; 0x218\n",
      "dc.b  $9A,$64,$00,$10,$20,$40,$00,$00 ; 0x220\n",
      "dc.b  $00,$00,$10,$20,$40,$40,$40,$40 ; 0x228\n",
      "dc.b  $20,$10,$20,$10,$08,$08,$08,$08 ; 0x230\n",
      "dc.b  $10,$20,$00,$92,$54,$38,$38,$54 ; 0x238\n",
      "dc.b  $92,$00,$10,$10,$10,$FE,$10,$10 ; 0x240\n",
      "dc.b  $10,$00,$00,$00,$00,$00,$00,$10 ; 0x248\n",
      "dc.b  $10,$20,$00,$00,$00,$FE,$00,$00 ; 0x250\n",
      "dc.b  $00,$00,$00,$00,$00,$00,$00,$60 ; 0x258\n",
      "dc.b  $60,$00,$00,$02,$04,$08,$10,$20 ; 0x260\n",
      "dc.b  $40,$80,$7C,$82,$86,$8A,$92,$A2 ; 0x268\n",
      "dc.b  $C2,$7C,$10,$30,$50,$10,$10,$10 ; 0x270\n",
      "dc.b  $10,$FE,$78,$84,$04,$08,$10,$20 ; 0x278\n",
      "dc.b  $40,$FE,$7C,$82,$02,$04,$7C,$02 ; 0x280\n",
      "dc.b  $82,$7C,$04,$0C,$14,$24,$44,$84 ; 0x288\n",
      "dc.b  $FE,$04,$FE,$80,$80,$FC,$02,$02 ; 0x290\n",
      "dc.b  $82,$7C,$38,$40,$80,$FC,$82,$82 ; 0x298\n",
      "dc.b  $82,$7C,$FE,$02,$04,$08,$10,$20 ; 0x2a0\n",
      "dc.b  $40,$80,$7C,$82,$82,$7C,$82,$82 ; 0x2a8\n",
      "dc.b  $82,$7C,$7C,$82,$82,$82,$7E,$02 ; 0x2b0\n",
      "dc.b  $82,$7C,$00,$00,$00,$7C,$02,$7E ; 0x2b8\n",
      "dc.b  $82,$7E,$80,$80,$80,$FC,$82,$82 ; 0x2c0\n",
      "dc.b  $82,$FC,$00,$00,$00,$7E,$80,$80 ; 0x2c8\n",
      "dc.b  $80,$7E,$02,$02,$02,$7E,$82,$82 ; 0x2d0\n",
      "dc.b  $82,$7E,$00,$00,$00,$7C,$82,$FC ; 0x2d8\n",
      "dc.b  $80,$7C,$00,$3E,$40,$40,$FE,$40 ; 0x2e0\n",
      "dc.b  $40,$40,$00,$00,$00,$7E,$82,$7E ; 0x2e8\n",
      "dc.b  $02,$7C,$80,$80,$80,$FC,$82,$82 ; 0x2f0\n",
      "dc.b  $82,$82,$00,$10,$00,$30,$10,$10 ; 0x2f8\n",
      "dc.b  $10,$38,$00,$10,$00,$10,$10,$10 ; 0x300\n",
      "dc.b  $10,$E0,$80,$80,$80,$88,$90,$F0 ; 0x308\n",
      "dc.b  $88,$84,$60,$20,$20,$20,$20,$20 ; 0x310\n",
      "dc.b  $20,$70,$00,$00,$00,$7C,$92,$92 ; 0x318\n",
      "dc.b  $92,$82,$00,$00,$00,$78,$84,$84 ; 0x320\n",
      "dc.b  $84,$84,$00,$00,$00,$7C,$82,$82 ; 0x328\n",
      "dc.b  $82,$7C,$00,$00,$00,$FC,$82,$FC ; 0x330\n",
      "dc.b  $80,$80,$00,$00,$00,$7E,$82,$7E ; 0x338\n",
      "dc.b  $02,$02,$00,$00,$00,$FC,$82,$80 ; 0x340\n",
      "dc.b  $80,$80,$00,$00,$00,$7E,$40,$38 ; 0x348\n",
      "dc.b  $04,$FC,$00,$00,$10,$FE,$10,$10 ; 0x350\n",
      "dc.b  $10,$0C,$00,$00,$00,$82,$82,$82 ; 0x358\n",
      "dc.b  $86,$7A,$00,$00,$00,$82,$82,$44 ; 0x360\n",
      "dc.b  $28,$10,$00,$00,$00,$82,$82,$92 ; 0x368\n",
      "dc.b  $AA,$C6,$00,$00,$00,$84,$48,$30 ; 0x370\n",
      "dc.b  $48,$84,$00,$00,$00,$82,$82,$7E ; 0x378\n",
      "dc.b  $02,$FC,$00,$00,$00,$FE,$04,$10 ; 0x380\n",
      "dc.b  $40,$FE,$10,$28,$44,$82,$FE,$82 ; 0x388\n",
      "dc.b  $82,$82,$FC,$82,$84,$FC,$82,$82 ; 0x390\n",
      "dc.b  $82,$FC,$7E,$C0,$80,$80,$80,$80 ; 0x398\n",
      "dc.b  $C0,$7E,$FC,$86,$82,$82,$82,$82 ; 0x3a0\n",
      "dc.b  $86,$FC,$FE,$80,$80,$FE,$80,$80 ; 0x3a8\n",
      "dc.b  $80,$FE,$FE,$80,$80,$FE,$80,$80 ; 0x3b0\n",
      "dc.b  $80,$80,$7E,$C0,$80,$80,$80,$86 ; 0x3b8\n",
      "dc.b  $C2,$7C,$82,$82,$82,$FE,$82,$82 ; 0x3c0\n",
      "dc.b  $82,$82,$FE,$10,$10,$10,$10,$10 ; 0x3c8\n",
      "dc.b  $10,$FE,$FE,$08,$08,$08,$08,$88 ; 0x3d0\n",
      "dc.b  $88,$70,$84,$88,$90,$E0,$90,$88 ; 0x3d8\n",
      "dc.b  $84,$82,$80,$80,$80,$80,$80,$80 ; 0x3e0\n",
      "dc.b  $80,$FE,$82,$C6,$AA,$92,$82,$82 ; 0x3e8\n",
      "dc.b  $82,$82,$82,$C2,$A2,$92,$8A,$86 ; 0x3f0\n",
      "dc.b  $82,$82,$7C,$C6,$82,$82,$82,$82 ; 0x3f8\n",
      "dc.b  $C6,$7C,$FC,$82,$82,$82,$FC,$80 ; 0x400\n",
      "dc.b  $80,$80,$7C,$C6,$82,$82,$82,$8A ; 0x408\n",
      "dc.b  $C6,$7A,$FC,$82,$82,$82,$FC,$88 ; 0x410\n",
      "dc.b  $84,$82,$7E,$80,$C0,$30,$1C,$06 ; 0x418\n",
      "dc.b  $02,$FC,$FE,$10,$10,$10,$10,$10 ; 0x420\n",
      "dc.b  $10,$10,$82,$82,$82,$82,$82,$82 ; 0x428\n",
      "dc.b  $82,$7C,$82,$82,$82,$44,$44,$28 ; 0x430\n",
      "dc.b  $28,$10,$82,$82,$82,$82,$82,$92 ; 0x438\n",
      "dc.b  $AA,$C6,$82,$82,$44,$38,$28,$44 ; 0x440\n",
      "dc.b  $82,$82,$82,$82,$82,$44,$28,$10 ; 0x448\n",
      "dc.b  $10,$10,$FE,$02,$04,$08,$10,$20 ; 0x450\n",
      "dc.b  $40,$FE,$C0,$F0,$FC,$FE,$FE,$FC ; 0x458\n",
      "dc.b  $F0,$C0,$00,$00,$30,$00,$00,$30 ; 0x460\n",
      "dc.b  $00,$00,$00,$3C,$66,$66,$66,$66 ; 0x468\n",
      "dc.b  $3C,$00,$00,$38,$18,$18,$18,$18 ; 0x470\n",
      "dc.b  $3C,$00,$00,$38,$6C,$0C,$18,$30 ; 0x478\n",
      "dc.b  $7C,$00,$00,$7E,$06,$0C,$06,$66 ; 0x480\n",
      "dc.b  $3C,$00,$00,$1C,$3C,$6C,$7E,$0C ; 0x488\n",
      "dc.b  $0C,$00,$00,$7E,$60,$7C,$06,$06 ; 0x490\n",
      "dc.b  $7C,$00,$00,$3C,$60,$7C,$66,$66 ; 0x498\n",
      "dc.b  $3C,$00,$00,$3E,$06,$0C,$18,$18 ; 0x4a0\n",
      "dc.b  $18,$00,$00,$3C,$66,$3C,$66,$66 ; 0x4a8\n",
      "dc.b  $3C,$00,$00,$3C,$66,$3E,$06,$06 ; 0x4b0\n",
      "dc.b  $3C,$00,$FF,$FF,$FF,$FF,$FF,$FF ; 0x4b8\n",
      "dc.b  $FF,$FF,$FF,$8F,$8F,$8F,$8F,$8F ; 0x4c0\n",
      "dc.b  $8F,$FF,$FF,$F1,$F1,$F1,$F1,$F1 ; 0x4c8\n",
      "dc.b  $F1,$FF,$FF,$81,$81,$81,$81,$81 ; 0x4d0\n",
      "dc.b  $81,$FF,$00,$00,$00,$00 ; 0x4d8\n"
     ]
    }
   ],
   "source": [
    "flatten = lambda l: [ e for sublist in l for e in sublist]\n",
    "\n",
    "longs = [l.strip().replace('$','').rjust(8,'0')\n",
    "         for l in ','.join([l[21:] \n",
    "         for l in vlm_logo.split('\\n')[1:]]).split(',')]\n",
    "bytes = flatten([[\"$\"+l[:2],\"$\"+l[2:4],\"$\"+l[4:6],\"$\"+l[6:]] for l in longs])\n",
    "bytes = [\"$00\",\"$08\"] + bytes\n",
    "for i in range(0,len(bytes),8):\n",
    "    print(\"dc.b  \" + ','.join(bytes[i:i+8]) + f\" ; {hex(i)}\")"
   ]
  },
  {
   "cell_type": "markdown",
   "id": "d86d2694",
   "metadata": {},
   "source": [
    "## square"
   ]
  },
  {
   "cell_type": "code",
   "execution_count": 61,
   "id": "ef572c43",
   "metadata": {
    "scrolled": true
   },
   "outputs": [
    {
     "name": "stdout",
     "output_type": "stream",
     "text": [
      "dc.b  $00,$04,$01,$00,$01,$00,$00,$04 ; 0x0\n",
      "dc.b  $00,$01,$00,$00,$00,$02,$00,$04 ; 0x8\n",
      "dc.b  $00,$00,$00,$10,$00,$00,$00,$04 ; 0x10\n",
      "dc.b  $00,$02,$00,$04,$00,$04,$00,$08 ; 0x18\n",
      "dc.b  $00,$00,$00,$10,$00,$00,$00,$04 ; 0x20\n",
      "dc.b  $00,$04,$00,$08,$00,$03,$00,$0C ; 0x28\n",
      "dc.b  $00,$00,$00,$10,$00,$00,$00,$04 ; 0x30\n",
      "dc.b  $00,$03,$00,$0C,$00,$01,$00,$00 ; 0x38\n",
      "dc.b  $00,$00,$00,$10,$00,$00,$01,$00 ; 0x40\n",
      "dc.b  $01,$00,$00,$00,$00,$00,$02,$00 ; 0x48\n",
      "dc.b  $00,$00,$00,$00,$02,$00,$02,$00 ; 0x50\n",
      "dc.b  $02,$00 ; 0x58\n",
      "\n",
      ";   _!-       -*-   -t\n",
      "; _I__      -       _e\n",
      ";  .  `r`  `I-  .;.   \n",
      ";     .=. .\"    -{`   \n",
      "; `)`  `?-`x` `   `i` \n",
      "; `<`,  .    -I`  .). \n",
      ";   `*-        /. -{` \n",
      "; ``   .ic!-  `c`  :  \n",
      "; a[.   iv_ `c`       \n",
      ";   \"\"_{.   ./.   /\". \n",
      ";  `{{-,        -]?{`.\n",
      ";        '       `  -[\n",
      ";   -{- -}-           \n",
      ";   .;.    -I-      . \n",
      ";           ;  `v` -I_\n",
      ";          -!- .\\.    \n",
      "\n"
     ]
    },
    {
     "data": {
      "image/jpeg": "[encoded data removed]",
      "image/png": "[encoded data removed]",
      "text/plain": [
       "<PIL.Image.Image image mode=RGB size=160x296>"
      ]
     },
     "execution_count": 61,
     "metadata": {},
     "output_type": "execute_result"
    }
   ],
   "source": [
    "img_data = \"\"\"\n",
    "                dc.l $40100, $1000004, $10000, $20004, $10, $04, $20004\n",
    "                dc.l $40008, $10, $04, $40008, $3000C, $10, $04, $3000C, $10000\n",
    "                dc.l $10, $100, $1000000, $200, 0, $2000200\n",
    "\"\"\"\n",
    "flatten = lambda l: [ e for sublist in l for e in sublist]\n",
    "\n",
    "longs = [l.strip().replace('$','').rjust(8,'0')\n",
    "         for l in ','.join([l[21:] \n",
    "         for l in img_data.split('\\n')[1:-1]]).split(',')]\n",
    "bytes = flatten([[\"$\"+l[:2],\"$\"+l[2:4],\"$\"+l[4:6],\"$\"+l[6:]] for l in longs])\n",
    "bytes = bytes + [\"$02\",\"$00\"]\n",
    "for i in range(0,len(bytes),8):\n",
    "    print(\"dc.b  \" + ','.join(bytes[i:i+8]) + f\" ; {hex(i)}\")\n",
    "    \n",
    "width = 20\n",
    "cry_bytes = bytearray([int(x[1:],16) for x in bytes])\n",
    "pixels = get1BitPixels(cry_bytes,width)\n",
    "\n",
    "scale = 8\n",
    "img = Image.fromarray(pixels,mode='RGB')\n",
    "img = img.resize((img.width * scale, img.height * scale), Image.NEAREST)\n",
    "\n",
    "my_art = AsciiArt.from_pillow_image(img)\n",
    "ascii_image = my_art.to_ascii(columns=20, monochrome=True)\n",
    "print('\\n'+''.join([\"; \" + l +\"\\n\" for l in ascii_image.splitlines()]))\n",
    "img"
   ]
  },
  {
   "cell_type": "markdown",
   "id": "237cf1c6",
   "metadata": {},
   "source": [
    "## chev4"
   ]
  },
  {
   "cell_type": "code",
   "execution_count": 64,
   "id": "e94209e1",
   "metadata": {
    "scrolled": true
   },
   "outputs": [
    {
     "name": "stdout",
     "output_type": "stream",
     "text": [
      "dc.b  $00,$02,$00,$50,$00,$60,$00,$12\n",
      "dc.b  $00,$00,$00,$00,$00,$01,$00,$04\n",
      "dc.b  $00,$02,$00,$08,$00,$00,$00,$13\n",
      "dc.b  $00,$03,$00,$00,$00,$01,$00,$04\n",
      "dc.b  $00,$02,$00,$08,$00,$00,$00,$00\n",
      "dc.b  $00,$C0,$00,$50,$00,$00,$00,$50\n",
      "dc.b  $00,$80,$00,$A0,$00,$C0\n",
      "\n",
      "; .\\)._],]_    -I-  .\\\n",
      "; `Iq: -.'          `s\n",
      ";   - `v`   -!-   `   \n",
      ";  -!-.< -  :,   -!-  \n",
      ";       [h'`![`     .=\n",
      ";       =; .+ -I-   -I\n",
      ";    -!.   -l` '      \n",
      ";     'v_cet       ` -\n",
      ";      |-<;`'-l`  -?,[\n",
      ";    `[!`.!,]'|.      \n",
      "\n"
     ]
    },
    {
     "data": {
      "image/jpeg": "[encoded data removed]",
      "image/png": "[encoded data removed]",
      "text/plain": [
       "<PIL.Image.Image image mode=RGB size=160x176>"
      ]
     },
     "execution_count": 64,
     "metadata": {},
     "output_type": "execute_result"
    }
   ],
   "source": [
    "img_data = \"\"\"\n",
    "                dc.l $500060, $120000, $01, $40002, $80000, $130003, $01, $40002\n",
    "                dc.l $80000, $C0, $500000, $500080, $A000C0\n",
    "\"\"\"\n",
    "flatten = lambda l: [ e for sublist in l for e in sublist]\n",
    "\n",
    "longs = [l.strip().replace('$','').rjust(8,'0')\n",
    "         for l in ','.join([l[21:] \n",
    "         for l in img_data.split('\\n')[1:-1]]).split(',')]\n",
    "bytes = flatten([[\"$\"+l[:2],\"$\"+l[2:4],\"$\"+l[4:6],\"$\"+l[6:]] for l in longs])\n",
    "bytes = [\"$00\",\"$02\"] + bytes\n",
    "for i in range(0,len(bytes),8):\n",
    "    print(\"dc.b  \" + ','.join(bytes[i:i+8]))\n",
    "    \n",
    "width = 20\n",
    "cry_bytes = bytearray([int(x[1:],16) for x in bytes])\n",
    "pixels = get1BitPixels(cry_bytes,width)\n",
    "\n",
    "scale = 8\n",
    "img = Image.fromarray(pixels,mode='RGB')\n",
    "img = img.resize((img.width * scale, img.height * scale), Image.NEAREST)\n",
    "\n",
    "my_art = AsciiArt.from_pillow_image(img)\n",
    "ascii_image = my_art.to_ascii(columns=20, monochrome=True)\n",
    "print('\\n'+''.join([\"; \" + l +\"\\n\" for l in ascii_image.splitlines()]))\n",
    "img"
   ]
  },
  {
   "cell_type": "markdown",
   "id": "638ff3fb",
   "metadata": {},
   "source": [
    "## chev3"
   ]
  },
  {
   "cell_type": "code",
   "execution_count": 74,
   "id": "26729e4b",
   "metadata": {
    "scrolled": false
   },
   "outputs": [
    {
     "name": "stdout",
     "output_type": "stream",
     "text": [
      "dc.b  $00,$02,$00,$50,$00,$60,$00,$8F\n",
      "dc.b  $00,$00,$00,$00,$00,$01,$00,$04\n",
      "dc.b  $00,$02,$00,$08,$00,$00,$00,$8E\n",
      "dc.b  $00,$03,$00,$00,$00,$01,$00,$04\n",
      "dc.b  $00,$02,$00,$08,$00,$00,$00,$00\n",
      "dc.b  $00,$C0,$00,$50,$00,$00,$00,$50\n",
      "dc.b  $00,$80,$00,$A0,$00,$C0\n",
      "['$02', '$50', '$60', '$8F', '$00', '$00', '$01', '$04', '$02', '$08', '$00', '$8E', '$03', '$00', '$01', '$04', '$02', '$08', '$00', '$00', '$C0', '$50', '$00', '$50', '$80', '$A0', '$C0']\n"
     ]
    },
    {
     "data": {
      "image/jpeg": "[encoded data removed]",
      "image/png": "[encoded data removed]",
      "text/plain": [
       "<PIL.Image.Image image mode=RGB size=64x224>"
      ]
     },
     "execution_count": 74,
     "metadata": {},
     "output_type": "execute_result"
    }
   ],
   "source": [
    "img_data = \"\"\"\n",
    "                dc.l $20050, $60008F, 0\n",
    "                dc.l $10004, $20008, $8E, $30000, $10004, $20008, 0\n",
    "                dc.l $C00050, $50, $8000A0\n",
    "\"\"\"\n",
    "flatten = lambda l: [ e for sublist in l for e in sublist]\n",
    "\n",
    "longs = [l.strip().replace('$','').rjust(8,'0')\n",
    "         for l in ','.join([l[21:] \n",
    "         for l in img_data.split('\\n')[1:-1]]).split(',')]\n",
    "bytes = flatten([[\"$\"+l[:2],\"$\"+l[2:4],\"$\"+l[4:6],\"$\"+l[6:]] for l in longs])\n",
    "bytes = bytes + [\"$00\",\"$C0\"]\n",
    "for i in range(0,len(bytes),8):\n",
    "    print(\"dc.b  \" + ','.join(bytes[i:i+8]))\n",
    "    \n",
    "width = 8\n",
    "bytes = [bytes[i] for i in range(1,len(bytes),2)]\n",
    "print(bytes)\n",
    "cry_bytes = bytearray([int(x[1:],16) for x in bytes])\n",
    "pixels = get1BitPixels(cry_bytes,width)\n",
    "\n",
    "scale = 8\n",
    "img = Image.fromarray(pixels,mode='RGB')\n",
    "img = img.resize((img.width * scale, img.height * scale), Image.NEAREST)\n",
    "\n",
    "my_art = AsciiArt.from_pillow_image(img)\n",
    "ascii_image = my_art.to_ascii(columns=20, monochrome=True)\n",
    "#print('\\n'+''.join([\"; \" + l +\"\\n\" for l in ascii_image.splitlines()]))\n",
    "img"
   ]
  },
  {
   "cell_type": "markdown",
   "id": "050579cb",
   "metadata": {},
   "source": [
    "## chev2"
   ]
  },
  {
   "cell_type": "code",
   "execution_count": 80,
   "id": "86f625f1",
   "metadata": {
    "scrolled": false
   },
   "outputs": [
    {
     "name": "stdout",
     "output_type": "stream",
     "text": [
      "dc.b  $00,$02,$00,$50,$00,$60,$00,$81\n",
      "dc.b  $00,$00,$00,$00,$00,$01,$00,$04\n",
      "dc.b  $00,$02,$00,$08,$00,$00,$00,$82\n",
      "dc.b  $00,$03,$00,$00,$00,$01,$00,$04\n",
      "dc.b  $00,$02,$00,$08,$00,$00,$00,$00\n",
      "dc.b  $00,$C0,$00,$50,$00,$00,$00,$50\n",
      "dc.b  $00,$80,$00,$A0,$00,$C0\n",
      "['$02', '$50', '$60', '$81', '$00', '$00', '$01', '$04', '$02', '$08', '$00', '$82', '$03', '$00', '$01', '$04', '$02', '$08', '$00', '$00', '$C0', '$50', '$00', '$50', '$80', '$A0', '$C0']\n"
     ]
    },
    {
     "data": {
      "image/jpeg": "[encoded data removed]",
      "image/png": "[encoded data removed]",
      "text/plain": [
       "<PIL.Image.Image image mode=RGB size=32x32>"
      ]
     },
     "execution_count": 80,
     "metadata": {},
     "output_type": "execute_result"
    }
   ],
   "source": [
    "img_data = \"\"\"\n",
    "                dc.l $500060, $810000, $01, $40002, $80000, $820003, $01, $40002\n",
    "                dc.l $80000, $C0, $500000, $500080, $A000C0\n",
    "\"\"\"\n",
    "flatten = lambda l: [ e for sublist in l for e in sublist]\n",
    "\n",
    "longs = [l.strip().replace('$','').rjust(8,'0')\n",
    "         for l in ','.join([l[21:] \n",
    "         for l in img_data.split('\\n')[1:-1]]).split(',')]\n",
    "bytes = flatten([[\"$\"+l[:2],\"$\"+l[2:4],\"$\"+l[4:6],\"$\"+l[6:]] for l in longs])\n",
    "bytes = [\"$00\",\"$02\"] + bytes\n",
    "for i in range(0,len(bytes),8):\n",
    "    print(\"dc.b  \" + ','.join(bytes[i:i+8]))\n",
    "    \n",
    "width = 4\n",
    "bytes = [bytes[i] for i in range(1,len(bytes),2)]\n",
    "print(bytes)\n",
    "cry_bytes = bytearray([int(x[1:],16) for x in bytes])\n",
    "pixels = getPixels(cry_bytes,width)\n",
    "\n",
    "scale = 8\n",
    "img = Image.fromarray(pixels,mode='RGB')\n",
    "img = img.resize((img.width * scale, img.height * scale), Image.NEAREST)\n",
    "\n",
    "my_art = AsciiArt.from_pillow_image(img)\n",
    "ascii_image = my_art.to_ascii(columns=20, monochrome=True)\n",
    "#print('\\n'+''.join([\"; \" + l +\"\\n\" for l in ascii_image.splitlines()]))\n",
    "img"
   ]
  },
  {
   "cell_type": "markdown",
   "id": "faf49e92",
   "metadata": {},
   "source": [
    "## chev1"
   ]
  },
  {
   "cell_type": "code",
   "execution_count": 81,
   "id": "769b455f",
   "metadata": {
    "scrolled": false
   },
   "outputs": [
    {
     "name": "stdout",
     "output_type": "stream",
     "text": [
      "dc.b  $00,$02,$00,$50,$00,$60,$00,$F1\n",
      "dc.b  $00,$00,$00,$00,$00,$01,$00,$04\n",
      "dc.b  $00,$02,$00,$08,$00,$00,$00,$F2\n",
      "dc.b  $00,$03,$00,$00,$00,$01,$00,$04\n",
      "dc.b  $00,$02,$00,$08,$00,$00,$00,$00\n",
      "dc.b  $00,$C0,$00,$50,$00,$00,$00,$50\n",
      "dc.b  $00,$80,$00,$A0,$00,$C0\n",
      "['$02', '$50', '$60', '$F1', '$00', '$00', '$01', '$04', '$02', '$08', '$00', '$F2', '$03', '$00', '$01', '$04', '$02', '$08', '$00', '$00', '$C0', '$50', '$00', '$50', '$80', '$A0', '$C0']\n"
     ]
    },
    {
     "data": {
      "image/jpeg": "[encoded data removed]",
      "image/png": "[encoded data removed]",
      "text/plain": [
       "<PIL.Image.Image image mode=RGB size=32x32>"
      ]
     },
     "execution_count": 81,
     "metadata": {},
     "output_type": "execute_result"
    }
   ],
   "source": [
    "img_data = \"\"\"\n",
    "                dc.l $20050, $6000F1, 0\n",
    "                dc.l $10004, $20008, $F2, $30000, $10004, $20008, 0\n",
    "                dc.l $C00050, $50, $8000A0\n",
    "\"\"\"\n",
    "flatten = lambda l: [ e for sublist in l for e in sublist]\n",
    "\n",
    "longs = [l.strip().replace('$','').rjust(8,'0')\n",
    "         for l in ','.join([l[21:] \n",
    "         for l in img_data.split('\\n')[1:-1]]).split(',')]\n",
    "bytes = flatten([[\"$\"+l[:2],\"$\"+l[2:4],\"$\"+l[4:6],\"$\"+l[6:]] for l in longs])\n",
    "bytes = bytes + [\"$00\",\"$C0\"] \n",
    "for i in range(0,len(bytes),8):\n",
    "    print(\"dc.b  \" + ','.join(bytes[i:i+8]))\n",
    "    \n",
    "width = 4\n",
    "bytes = [bytes[i] for i in range(1,len(bytes),2)]\n",
    "print(bytes)\n",
    "cry_bytes = bytearray([int(x[1:],16) for x in bytes])\n",
    "pixels = getPixels(cry_bytes,width)\n",
    "\n",
    "scale = 8\n",
    "img = Image.fromarray(pixels,mode='RGB')\n",
    "img = img.resize((img.width * scale, img.height * scale), Image.NEAREST)\n",
    "\n",
    "my_art = AsciiArt.from_pillow_image(img)\n",
    "ascii_image = my_art.to_ascii(columns=20, monochrome=True)\n",
    "#print('\\n'+''.join([\"; \" + l +\"\\n\" for l in ascii_image.splitlines()]))\n",
    "img"
   ]
  },
  {
   "cell_type": "markdown",
   "id": "3e4373d3",
   "metadata": {},
   "source": [
    "## chev5"
   ]
  },
  {
   "cell_type": "code",
   "execution_count": 82,
   "id": "ddb88ee5",
   "metadata": {
    "scrolled": false
   },
   "outputs": [
    {
     "name": "stdout",
     "output_type": "stream",
     "text": [
      "dc.b  $00,$02,$00,$50,$00,$60,$00,$FE\n",
      "dc.b  $00,$00,$00,$00,$00,$01,$00,$04\n",
      "dc.b  $00,$02,$00,$08,$00,$00,$00,$FD\n",
      "dc.b  $00,$03,$00,$00,$00,$01,$00,$04\n",
      "dc.b  $00,$02,$00,$08,$00,$00,$00,$00\n",
      "dc.b  $00,$C0,$00,$50,$00,$00,$00,$50\n",
      "dc.b  $00,$80,$00,$A0,$00,$C0\n",
      "['$02', '$50', '$60', '$FE', '$00', '$00', '$01', '$04', '$02', '$08', '$00', '$FD', '$03', '$00', '$01', '$04', '$02', '$08', '$00', '$00', '$C0', '$50', '$00', '$50', '$80', '$A0', '$C0']\n"
     ]
    },
    {
     "data": {
      "image/jpeg": "[encoded data removed]",
      "image/png": "[encoded data removed]",
      "text/plain": [
       "<PIL.Image.Image image mode=RGB size=32x32>"
      ]
     },
     "execution_count": 82,
     "metadata": {},
     "output_type": "execute_result"
    }
   ],
   "source": [
    "img_data = \"\"\"\n",
    "                dc.l $500060, $FE0000, $01, $40002, $80000, $FD0003, $01, $40002\n",
    "                dc.l $80000, $C0, $500000, $500080, $A000C0\n",
    "\"\"\"\n",
    "flatten = lambda l: [ e for sublist in l for e in sublist]\n",
    "\n",
    "longs = [l.strip().replace('$','').rjust(8,'0')\n",
    "         for l in ','.join([l[21:] \n",
    "         for l in img_data.split('\\n')[1:-1]]).split(',')]\n",
    "bytes = flatten([[\"$\"+l[:2],\"$\"+l[2:4],\"$\"+l[4:6],\"$\"+l[6:]] for l in longs])\n",
    "bytes = [\"$00\",\"$02\"] + bytes\n",
    "for i in range(0,len(bytes),8):\n",
    "    print(\"dc.b  \" + ','.join(bytes[i:i+8]))\n",
    "    \n",
    "width = 4\n",
    "bytes = [bytes[i] for i in range(1,len(bytes),2)]\n",
    "print(bytes)\n",
    "cry_bytes = bytearray([int(x[1:],16) for x in bytes])\n",
    "pixels = getPixels(cry_bytes,width)\n",
    "\n",
    "scale = 8\n",
    "img = Image.fromarray(pixels,mode='RGB')\n",
    "img = img.resize((img.width * scale, img.height * scale), Image.NEAREST)\n",
    "\n",
    "my_art = AsciiArt.from_pillow_image(img)\n",
    "ascii_image = my_art.to_ascii(columns=20, monochrome=True)\n",
    "#print('\\n'+''.join([\"; \" + l +\"\\n\" for l in ascii_image.splitlines()]))\n",
    "img"
   ]
  },
  {
   "cell_type": "markdown",
   "id": "6b2b70a9",
   "metadata": {},
   "source": [
    "## chev"
   ]
  },
  {
   "cell_type": "code",
   "execution_count": 83,
   "id": "424dd642",
   "metadata": {
    "scrolled": false
   },
   "outputs": [
    {
     "name": "stdout",
     "output_type": "stream",
     "text": [
      "dc.b  $00,$02,$00,$50,$00,$60,$00,$48\n",
      "dc.b  $00,$00,$00,$00,$00,$01,$00,$04\n",
      "dc.b  $00,$02,$00,$08,$00,$00,$00,$49\n",
      "dc.b  $00,$03,$00,$00,$00,$01,$00,$04\n",
      "dc.b  $00,$02,$00,$08,$00,$00,$00,$00\n",
      "dc.b  $00,$C0,$00,$50,$00,$00,$00,$50\n",
      "dc.b  $00,$80,$00,$A0,$00,$C0\n",
      "['$02', '$50', '$60', '$48', '$00', '$00', '$01', '$04', '$02', '$08', '$00', '$49', '$03', '$00', '$01', '$04', '$02', '$08', '$00', '$00', '$C0', '$50', '$00', '$50', '$80', '$A0', '$C0']\n"
     ]
    },
    {
     "data": {
      "image/jpeg": "[encoded data removed]",
      "image/png": "[encoded data removed]",
      "text/plain": [
       "<PIL.Image.Image image mode=RGB size=32x32>"
      ]
     },
     "execution_count": 83,
     "metadata": {},
     "output_type": "execute_result"
    }
   ],
   "source": [
    "img_data = \"\"\"\n",
    "                dc.l $20050, $600048, 0\n",
    "                dc.l $10004, $20008, $49, $30000, $10004, $20008, 0\n",
    "                dc.l $C00050, $50, $8000A0\n",
    "\"\"\"\n",
    "flatten = lambda l: [ e for sublist in l for e in sublist]\n",
    "\n",
    "longs = [l.strip().replace('$','').rjust(8,'0')\n",
    "         for l in ','.join([l[21:] \n",
    "         for l in img_data.split('\\n')[1:-1]]).split(',')]\n",
    "bytes = flatten([[\"$\"+l[:2],\"$\"+l[2:4],\"$\"+l[4:6],\"$\"+l[6:]] for l in longs])\n",
    "bytes = bytes + [\"$00\",\"$C0\"]\n",
    "for i in range(0,len(bytes),8):\n",
    "    print(\"dc.b  \" + ','.join(bytes[i:i+8]))\n",
    "    \n",
    "width = 4\n",
    "bytes = [bytes[i] for i in range(1,len(bytes),2)]\n",
    "print(bytes)\n",
    "cry_bytes = bytearray([int(x[1:],16) for x in bytes])\n",
    "pixels = getPixels(cry_bytes,width)\n",
    "\n",
    "scale = 8\n",
    "img = Image.fromarray(pixels,mode='RGB')\n",
    "img = img.resize((img.width * scale, img.height * scale), Image.NEAREST)\n",
    "\n",
    "my_art = AsciiArt.from_pillow_image(img)\n",
    "ascii_image = my_art.to_ascii(columns=20, monochrome=True)\n",
    "#print('\\n'+''.join([\"; \" + l +\"\\n\" for l in ascii_image.splitlines()]))\n",
    "img"
   ]
  },
  {
   "cell_type": "code",
   "execution_count": null,
   "id": "609f70e0",
   "metadata": {},
   "outputs": [],
   "source": [
    "\n",
    "\n",
    "\n",
    "\n",
    "\n",
    "\n",
    "\n",
    "\n",
    "\n",
    "\n",
    "\n",
    "\n",
    "\n",
    "\n",
    "\n",
    "\n",
    "\n",
    "\n"
   ]
  },
  {
   "cell_type": "markdown",
   "id": "9e1b4de5",
   "metadata": {},
   "source": [
    "# Rough Work"
   ]
  },
  {
   "cell_type": "code",
   "execution_count": 87,
   "id": "1953e482",
   "metadata": {},
   "outputs": [
    {
     "data": {
      "text/plain": [
       "65535"
      ]
     },
     "execution_count": 87,
     "metadata": {},
     "output_type": "execute_result"
    }
   ],
   "source": [
    "0xFFFF"
   ]
  },
  {
   "cell_type": "code",
   "execution_count": 84,
   "id": "312cead8",
   "metadata": {
    "scrolled": true
   },
   "outputs": [
    {
     "name": "stdout",
     "output_type": "stream",
     "text": [
      "dc.w 920, 1016, 1024, 1032 ; 0\n",
      "dc.w 1040, 280, 280, 280 ; 4\n",
      "dc.w 280, 280, 280, 280 ; 8\n",
      "dc.w 280, 280, 280, 280 ; 12\n",
      "dc.w 280, 280, 280, 280 ; 16\n",
      "dc.w 280, 280, 280, 280 ; 20\n",
      "dc.w 280, 280, 280, 280 ; 24\n",
      "dc.w 280, 280, 280, 280 ; 28\n",
      "dc.w 280, 304, 312, 320 ; 32\n",
      "dc.w 328, 336, 344, 352 ; 36\n",
      "dc.w 360, 368, 376, 384 ; 40\n",
      "dc.w 392, 400, 408, 416 ; 44\n",
      "dc.w 424, 432, 440, 448 ; 48\n",
      "dc.w 456, 464, 472, 480 ; 52\n",
      "dc.w 488, 496, 928, 280 ; 56\n",
      "dc.w 296, 280, 288, 280 ; 60\n",
      "dc.w 280, 712, 720, 728 ; 64\n",
      "dc.w 736, 744, 752, 760 ; 68\n",
      "dc.w 768, 776, 784, 792 ; 72\n",
      "dc.w 800, 808, 816, 824 ; 76\n",
      "dc.w 832, 840, 848, 856 ; 80\n",
      "dc.w 864, 872, 880, 888 ; 84\n",
      "dc.w 896, 904, 912, 280 ; 88\n",
      "dc.w 280, 280, 280, 280 ; 92\n",
      "dc.w 280, 504, 512, 520 ; 96\n",
      "dc.w 528, 536, 544, 552 ; 100\n",
      "dc.w 560, 568, 576, 584 ; 104\n",
      "dc.w 592, 600, 608, 616 ; 108\n",
      "dc.w 624, 632, 640, 648 ; 112\n",
      "dc.w 656, 664, 672, 680 ; 116\n",
      "dc.w 688, 696, 704, 280 ; 120\n",
      "dc.w 280, 280, 280, 280 ; 124\n",
      "dc.w 936, 944, 952, 960 ; 128\n",
      "dc.w 968, 976, 984, 992 ; 132\n",
      "dc.w 1000, 1008, 0, 0 ; 136\n",
      "dc.w 0, 0 ; 140\n"
     ]
    }
   ],
   "source": [
    "avbank_raw = open(\"../src/vlm/font.dat\",'r').read()\n",
    "words = [l.strip().replace('$','')\n",
    "         for l in ','.join(\n",
    "             [l[14:] for l in avbank_raw.split('\\n')[2:]  if \"dc.w\" in l]\n",
    "         ).split(',')]\n",
    "#longs = [\"$\"+words[i]+words[i+1] for i in range(0,len(words),2)]\n",
    "for i in range(0,len(words),4):\n",
    "    w = [str(int(w,16)) for w in words[i:i+4]]\n",
    "    print('dc.w '+', '.join(w) + f' ; {i}')\n",
    "    "
   ]
  },
  {
   "cell_type": "code",
   "execution_count": 86,
   "id": "d463be9a",
   "metadata": {
    "scrolled": true
   },
   "outputs": [
    {
     "name": "stdout",
     "output_type": "stream",
     "text": [
      "dc.l $20100804, $04081020 ; 280\n",
      "dc.l $04081020, $20100804 ; 288\n",
      "dc.l $20202020, $20000020 ; 296\n",
      "dc.l $50505000, $00000000 ; 304\n",
      "dc.l $4848FE48, $48FE4848 ; 312\n",
      "dc.l $107E9070, $1014FE20 ; 320\n",
      "dc.l $60620408, $10204C8C ; 328\n",
      "dc.l $20508870, $64989A64 ; 336\n",
      "dc.l $00102040, $00000000 ; 344\n",
      "dc.l $10204040, $40402010 ; 352\n",
      "dc.l $20100808, $08081020 ; 360\n",
      "dc.l $00925438, $38549200 ; 368\n",
      "dc.l $101010FE, $10101000 ; 376\n",
      "dc.l $00000000, $00101020 ; 384\n",
      "dc.l $000000FE, $00000000 ; 392\n",
      "dc.l $00000000, $00606000 ; 400\n",
      "dc.l $00020408, $10204080 ; 408\n",
      "dc.l $7C82868A, $92A2C27C ; 416\n",
      "dc.l $10305010, $101010FE ; 424\n",
      "dc.l $78840408, $102040FE ; 432\n",
      "dc.l $7C820204, $7C02827C ; 440\n",
      "dc.l $040C1424, $4484FE04 ; 448\n",
      "dc.l $FE8080FC, $0202827C ; 456\n",
      "dc.l $384080FC, $8282827C ; 464\n",
      "dc.l $FE020408, $10204080 ; 472\n",
      "dc.l $7C82827C, $8282827C ; 480\n",
      "dc.l $7C828282, $7E02827C ; 488\n",
      "dc.l $0000007C, $027E827E ; 496\n",
      "dc.l $808080FC, $828282FC ; 504\n",
      "dc.l $0000007E, $8080807E ; 512\n",
      "dc.l $0202027E, $8282827E ; 520\n",
      "dc.l $0000007C, $82FC807C ; 528\n",
      "dc.l $003E4040, $FE404040 ; 536\n",
      "dc.l $0000007E, $827E027C ; 544\n",
      "dc.l $808080FC, $82828282 ; 552\n",
      "dc.l $00100030, $10101038 ; 560\n",
      "dc.l $00100010, $101010E0 ; 568\n",
      "dc.l $80808088, $90F08884 ; 576\n",
      "dc.l $60202020, $20202070 ; 584\n",
      "dc.l $0000007C, $92929282 ; 592\n",
      "dc.l $00000078, $84848484 ; 600\n",
      "dc.l $0000007C, $8282827C ; 608\n",
      "dc.l $000000FC, $82FC8080 ; 616\n",
      "dc.l $0000007E, $827E0202 ; 624\n",
      "dc.l $000000FC, $82808080 ; 632\n",
      "dc.l $0000007E, $403804FC ; 640\n",
      "dc.l $000010FE, $1010100C ; 648\n",
      "dc.l $00000082, $8282867A ; 656\n",
      "dc.l $00000082, $82442810 ; 664\n",
      "dc.l $00000082, $8292AAC6 ; 672\n",
      "dc.l $00000084, $48304884 ; 680\n",
      "dc.l $00000082, $827E02FC ; 688\n",
      "dc.l $000000FE, $041040FE ; 696\n",
      "dc.l $10284482, $FE828282 ; 704\n",
      "dc.l $FC8284FC, $828282FC ; 712\n",
      "dc.l $7EC08080, $8080C07E ; 720\n",
      "dc.l $FC868282, $828286FC ; 728\n",
      "dc.l $FE8080FE, $808080FE ; 736\n",
      "dc.l $FE8080FE, $80808080 ; 744\n",
      "dc.l $7EC08080, $8086C27C ; 752\n",
      "dc.l $828282FE, $82828282 ; 760\n",
      "dc.l $FE101010, $101010FE ; 768\n",
      "dc.l $FE080808, $08888870 ; 776\n",
      "dc.l $848890E0, $90888482 ; 784\n",
      "dc.l $80808080, $808080FE ; 792\n",
      "dc.l $82C6AA92, $82828282 ; 800\n",
      "dc.l $82C2A292, $8A868282 ; 808\n",
      "dc.l $7CC68282, $8282C67C ; 816\n",
      "dc.l $FC828282, $FC808080 ; 824\n",
      "dc.l $7CC68282, $828AC67A ; 832\n",
      "dc.l $FC828282, $FC888482 ; 840\n",
      "dc.l $7E80C030, $1C0602FC ; 848\n",
      "dc.l $FE101010, $10101010 ; 856\n",
      "dc.l $82828282, $8282827C ; 864\n",
      "dc.l $82828244, $44282810 ; 872\n",
      "dc.l $82828282, $8292AAC6 ; 880\n",
      "dc.l $82824438, $28448282 ; 888\n",
      "dc.l $82828244, $28101010 ; 896\n",
      "dc.l $FE020408, $102040FE ; 904\n",
      "dc.l $C0F0FCFE, $FEFCF0C0 ; 912\n",
      "dc.l $00003000, $00300000 ; 920\n",
      "dc.l $003C6666, $66663C00 ; 928\n",
      "dc.l $00381818, $18183C00 ; 936\n",
      "dc.l $00386C0C, $18307C00 ; 944\n",
      "dc.l $007E060C, $06663C00 ; 952\n",
      "dc.l $001C3C6C, $7E0C0C00 ; 960\n",
      "dc.l $007E607C, $06067C00 ; 968\n",
      "dc.l $003C607C, $66663C00 ; 976\n",
      "dc.l $003E060C, $18181800 ; 984\n",
      "dc.l $003C663C, $66663C00 ; 992\n",
      "dc.l $003C663E, $06063C00 ; 1000\n",
      "dc.l $FFFFFFFF, $FFFFFFFF ; 1008\n",
      "dc.l $FF8F8F8F, $8F8F8FFF ; 1016\n",
      "dc.l $FFF1F1F1, $F1F1F1FF ; 1024\n",
      "dc.l $FF818181, $818181FF ; 1032\n"
     ]
    }
   ],
   "source": [
    "avbank_raw = open(\"../src/vlm/font.dat\",'r').read()\n",
    "longs = [l.strip().replace('$','').rjust(8,'0')\n",
    "         for l in ','.join(\n",
    "             [l[14:] for l in avbank_raw.split('\\n')[4:]   if \"dc.l\" in l]\n",
    "         ).split(',')]\n",
    "for i in range(0,len(longs),2):\n",
    "    print('dc.l $'+', $'.join(longs[i:i+2]) + f' ; {280+(i*4)}')\n"
   ]
  },
  {
   "cell_type": "code",
   "execution_count": 2,
   "id": "9f89c85a",
   "metadata": {},
   "outputs": [
    {
     "data": {
      "text/plain": [
       "516"
      ]
     },
     "execution_count": 2,
     "metadata": {},
     "output_type": "execute_result"
    }
   ],
   "source": [
    "flatten = lambda l: [ e for sublist in l for e in sublist]\n",
    "avbank_raw = open(\"../src/vlm/sympad.dat\",'r').read()\n",
    "bs = [int(l.strip().replace('$',''),16)\n",
    "         for l in ','.join(\n",
    "             [l[21:] for l in avbank_raw.split('\\n')]\n",
    "         ).split(',') if l != '']\n",
    "open(\"../src/vlm/sympad.o\",'wb').write(bytes(bs))"
   ]
  },
  {
   "cell_type": "code",
   "execution_count": 32,
   "id": "daad7a80",
   "metadata": {},
   "outputs": [
    {
     "data": {
      "text/plain": [
       "40"
      ]
     },
     "execution_count": 32,
     "metadata": {},
     "output_type": "execute_result"
    }
   ],
   "source": [
    "0x5e48-0x5e20"
   ]
  },
  {
   "cell_type": "code",
   "execution_count": 28,
   "id": "161e24ce",
   "metadata": {},
   "outputs": [
    {
     "data": {
      "text/plain": [
       "'0x56054'"
      ]
     },
     "execution_count": 28,
     "metadata": {},
     "output_type": "execute_result"
    }
   ],
   "source": [
    "hex(0x1e8054 - 0x192000)"
   ]
  },
  {
   "cell_type": "code",
   "execution_count": null,
   "id": "1496064f",
   "metadata": {},
   "outputs": [],
   "source": [
    "\n",
    "\n",
    "\n",
    "\n",
    "\n",
    "\n",
    "\n",
    "\n",
    "\n",
    "\n",
    "\n",
    "\n",
    "\n",
    "\n",
    "\n",
    "\n",
    "\n",
    "\n",
    "\n",
    "\n",
    "\n",
    "\n",
    "\n"
   ]
  }
 ],
 "metadata": {
  "kernelspec": {
   "display_name": "Python 3 (ipykernel)",
   "language": "python",
   "name": "python3"
  },
  "language_info": {
   "codemirror_mode": {
    "name": "ipython",
    "version": 3
   },
   "file_extension": ".py",
   "mimetype": "text/x-python",
   "name": "python",
   "nbconvert_exporter": "python",
   "pygments_lexer": "ipython3",
   "version": "3.10.12"
  }
 },
 "nbformat": 4,
 "nbformat_minor": 5
}
